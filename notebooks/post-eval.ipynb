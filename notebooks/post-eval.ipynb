{
 "cells": [
  {
   "cell_type": "code",
   "execution_count": 147,
   "id": "794d1ffd-bd2e-44fa-93ec-443e8e803c7f",
   "metadata": {},
   "outputs": [],
   "source": [
    "import sys"
   ]
  },
  {
   "cell_type": "code",
   "execution_count": 148,
   "id": "54a9eacc-f211-4bd6-b7d3-03b4172f1edf",
   "metadata": {},
   "outputs": [],
   "source": [
    "import wandb\n",
    "import json\n",
    "import pandas as pd\n",
    "import glob\n",
    "\n",
    "sys.path.append(\"../.\")\n",
    "import direct.openai_ranking"
   ]
  },
  {
   "cell_type": "code",
   "execution_count": 149,
   "id": "28ab7b0e-c774-4d79-88eb-2a39f7a786ff",
   "metadata": {},
   "outputs": [],
   "source": [
    "dataset = \"imdb\"\n",
    "project = \"wm-debug-imdb\"\n",
    "tag = \"xmas-sweep2\"\n",
    "m = 256\n",
    "n = 1024"
   ]
  },
  {
   "cell_type": "code",
   "execution_count": 150,
   "id": "a47aee94-59c6-40f3-853b-27b75f6b71c0",
   "metadata": {},
   "outputs": [],
   "source": [
    "def get_eval_data(project, tag, filename):\n",
    "    dfs = []\n",
    "    for r in wandb.Api().runs(project, filters=dict(tags=tag)):\n",
    "        if tag in r.tags:\n",
    "            cfg = json.loads(r.json_config)\n",
    "            for f in r.files():\n",
    "                if f.name == filename:\n",
    "                    print(\"loading\", f.name, \"from\", r.name)\n",
    "                    root = \"/tmp\"\n",
    "                    f.download(root, replace=True)\n",
    "                    path = f\"{root}/{f.name}\"\n",
    "                    eval_data = json.loads(open(path).read())\n",
    "\n",
    "                    df = pd.DataFrame(eval_data)\n",
    "                    df[\"acquire_pairs_function\"] = cfg[\"exp5\"][\"value\"][\"acquire_pairs_function\"]\n",
    "                    df[\"seed\"] = int(cfg[\"seed\"][\"value\"])\n",
    "                    df[\"run_name\"] = r.name\n",
    "                    dfs.append(df)\n",
    "\n",
    "    return pd.concat(dfs)"
   ]
  },
  {
   "cell_type": "code",
   "execution_count": 151,
   "id": "56824c16-ad95-4279-b33d-71967b52e51f",
   "metadata": {},
   "outputs": [],
   "source": [
    "def submit_to_oracle(m):\n",
    "    df = get_eval_data(project, tag, f\"evaluation_m{m}_post_training_T0.25.json\")\n",
    "    df = df[df.acquire_pairs_function == \"HIGH_ENTROPY_AND_CERTAINTY\"]\n",
    "    sample_df = df.groupby([\"acquire_pairs_function\", \"seed\"], group_keys=False).apply(lambda x: x.sample(n))\n",
    "    batch = sample_df[[\"prompts\", \"completions\", \"vs_completions\"]].rename(\n",
    "    columns={\"completions\": \"completion_a\", \"vs_completions\": \"completion_b\", \"prompts\": \"prompt\"}).to_dict(\"records\")\n",
    "    \n",
    "    oracle_response = direct.openai_ranking.get_preference_batch(batch, \"gpt-4-1106-preview\", None, 10, dataset, provider=\"openai\")\n",
    "    cost = sum([r['cost'] for r in oracle_response])\n",
    "    print(f\"That cost ~ {cost} USD\")\n",
    "    sample_df[\"win\"] = [r['preferred'] == 0 for r in oracle_response]  \n",
    "    return sample_df\n"
   ]
  },
  {
   "cell_type": "code",
   "execution_count": 1,
   "id": "9c027c67-1857-42a1-bb55-3d8890569bdf",
   "metadata": {},
   "outputs": [],
   "source": [
    "# for m in [128, 256, 512, 768]:\n",
    "#     s = submit_to_oracle(m)\n",
    "#     s.to_csv(f\"../results/post-eval-winrate-{dataset}-m{m}-{tag}.csv\", index=False)"
   ]
  },
  {
   "cell_type": "code",
   "execution_count": null,
   "id": "d30729fe-77ff-4efe-9cdb-d0976e293b71",
   "metadata": {},
   "outputs": [],
   "source": [
    "for m in [128, 256, 512]:\n",
    "    s = submit_to_oracle(m)\n",
    "    s.to_csv(f\"../results/post-eval-winrate-{dataset}-m{m}-{tag}.csv\", index=False)"
   ]
  }
 ],
 "metadata": {
  "kernelspec": {
   "display_name": "Python 3 (ipykernel)",
   "language": "python",
   "name": "python3"
  },
  "language_info": {
   "codemirror_mode": {
    "name": "ipython",
    "version": 3
   },
   "file_extension": ".py",
   "mimetype": "text/x-python",
   "name": "python",
   "nbconvert_exporter": "python",
   "pygments_lexer": "ipython3",
   "version": "3.10.10"
  }
 },
 "nbformat": 4,
 "nbformat_minor": 5
}
