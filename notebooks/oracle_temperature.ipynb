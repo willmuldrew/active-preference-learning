{
 "cells": [
  {
   "cell_type": "code",
   "execution_count": 14,
   "metadata": {
    "collapsed": true
   },
   "outputs": [],
   "source": [
    "import openai\n",
    "import direct.openai_ranking as openai_ranking\n",
    "import pandas as pd\n",
    "import numpy as np\n",
    "\n",
    "openai.api_key_path = \"/home/will/.openai\"\n",
    "\n",
    "data = pd.read_json(\"~/code/preference-learning/wandb/run-20230920_091637-8gpthcui/files/training_data.jsonl\", lines=True)[:6]"
   ]
  },
  {
   "cell_type": "code",
   "execution_count": 16,
   "outputs": [
    {
     "name": "stderr",
     "output_type": "stream",
     "text": [
      "100%|██████████| 6/6 [02:06<00:00, 21.09s/it]\n"
     ]
    },
    {
     "name": "stdout",
     "output_type": "stream",
     "text": [
      "Getting preferences of batch of 6 using 10 threads\n"
     ]
    },
    {
     "name": "stderr",
     "output_type": "stream",
     "text": [
      "100%|██████████| 6/6 [00:05<00:00,  1.15it/s]\n"
     ]
    },
    {
     "name": "stdout",
     "output_type": "stream",
     "text": [
      "Getting preferences of batch of 6 using 10 threads\n"
     ]
    },
    {
     "name": "stderr",
     "output_type": "stream",
     "text": [
      "100%|██████████| 6/6 [00:07<00:00,  1.17s/it]\n"
     ]
    },
    {
     "name": "stdout",
     "output_type": "stream",
     "text": [
      "Getting preferences of batch of 6 using 10 threads\n"
     ]
    },
    {
     "name": "stderr",
     "output_type": "stream",
     "text": [
      "100%|██████████| 6/6 [00:06<00:00,  1.13s/it]\n"
     ]
    }
   ],
   "source": [
    "batch = [{\n",
    "    'post': d['prompt'],\n",
    "    'tldr_a': d['completion_0'],\n",
    "    'tldr_b': d['completion_1'],\n",
    "} for d in data.to_dict(orient='records')]\n",
    "\n",
    "#model = \"gpt-3.5-turbo\"\n",
    "model = \"gpt-4\"\n",
    "r1 = openai_ranking.get_tldr_preference_batch(batch, model=model, request_logger=None, num_threads=10, oracle_temperature=0)\n",
    "r2 = openai_ranking.get_tldr_preference_batch(batch, model=model, request_logger=None, num_threads=10, oracle_temperature=0)"
   ],
   "metadata": {
    "collapsed": false
   }
  },
  {
   "cell_type": "code",
   "execution_count": 3,
   "outputs": [
    {
     "name": "stdout",
     "output_type": "stream",
     "text": [
      "[0 1 1 1 1 0 0 1 1 1 0 0 0 1 1 0 1 0 0 0]\n",
      "[0 1 0 1 0 1 1 0 1 1 0 0 0 1 1 0 0 1 0 0]\n"
     ]
    },
    {
     "data": {
      "text/plain": "0.65"
     },
     "execution_count": 3,
     "metadata": {},
     "output_type": "execute_result"
    }
   ],
   "source": [
    "a1 = np.array([r['preferred'] for r in r1])\n",
    "a2 = np.array([r['preferred'] for r in r2])\n",
    "print(a1)\n",
    "print(a2)\n",
    "(a1 == a2).sum() / len(a1)"
   ],
   "metadata": {
    "collapsed": false
   }
  },
  {
   "cell_type": "code",
   "execution_count": 11,
   "outputs": [
    {
     "data": {
      "text/plain": "' \\n\\nMet a girl on Facebook, i think she likes me, i need a way to talk to her, i don`t know if i should text her and it will just be awkward.<|endoftext|>'"
     },
     "execution_count": 11,
     "metadata": {},
     "output_type": "execute_result"
    }
   ],
   "source": [
    "data.iloc[5]['completion_0']"
   ],
   "metadata": {
    "collapsed": false
   }
  },
  {
   "cell_type": "code",
   "execution_count": 12,
   "outputs": [
    {
     "data": {
      "text/plain": "' \\n\\nMet a girl on Facebook but i think she likes me. How do i tell her i like her. And how do i send her a smiley face when i get home?<|endoftext|>'"
     },
     "execution_count": 12,
     "metadata": {},
     "output_type": "execute_result"
    }
   ],
   "source": [
    "data.iloc[5]['completion_1']"
   ],
   "metadata": {
    "collapsed": false
   }
  },
  {
   "cell_type": "code",
   "execution_count": 13,
   "outputs": [
    {
     "data": {
      "text/plain": "'SUBREDDIT: r/askwomenadvice\\nTITLE: How do i talk to this new girl i met on Facebook?\\nPOST: Happy 2015 women! A little backstory. Last night i was out with my friends when i noticed a pretty nice girl, i talked to her alot, but i really don`t remember much. When i woke up today she added me on Facebook, and i remembered that i asked her to do that cause i had to leave. I sent her a smiley face when i got home, it got \"seen\" 12 hours ago. Now, do i text her? Or should i take the hint? Or do she waits for me to text her without being intoxicated?\\n\\nEnglish is not my first language, sorry!\\n\\nMe: [19M] Her [19F]\\nTL;DR:'"
     },
     "execution_count": 13,
     "metadata": {},
     "output_type": "execute_result"
    }
   ],
   "source": [
    "data.iloc[5]['prompt']"
   ],
   "metadata": {
    "collapsed": false
   }
  }
 ],
 "metadata": {
  "kernelspec": {
   "display_name": "Python 3",
   "language": "python",
   "name": "python3"
  },
  "language_info": {
   "codemirror_mode": {
    "name": "ipython",
    "version": 2
   },
   "file_extension": ".py",
   "mimetype": "text/x-python",
   "name": "python",
   "nbconvert_exporter": "python",
   "pygments_lexer": "ipython2",
   "version": "2.7.6"
  }
 },
 "nbformat": 4,
 "nbformat_minor": 0
}
