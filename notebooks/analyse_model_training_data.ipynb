{
 "cells": [
  {
   "cell_type": "code",
   "execution_count": 1,
   "metadata": {
    "ExecuteTime": {
     "end_time": "2024-06-02T21:55:21.473283Z",
     "start_time": "2024-06-02T21:55:20.544087Z"
    }
   },
   "outputs": [],
   "source": [
    "%matplotlib inline\n",
    "\n",
    "import json\n",
    "import pandas as pd\n",
    "import wandb\n",
    "import matplotlib.pyplot as plt\n",
    "import numpy as np\n",
    "import matplotlib.pyplot as plt\n",
    "import seaborn as sns\n"
   ]
  },
  {
   "cell_type": "code",
   "execution_count": 9,
   "metadata": {
    "ExecuteTime": {
     "end_time": "2024-06-02T21:56:52.994138Z",
     "start_time": "2024-06-02T21:56:52.979604Z"
    }
   },
   "outputs": [],
   "source": [
    "def get_training_data(project, tag, filename):\n",
    "    dfs = []\n",
    "    for r in wandb.Api().runs(project):\n",
    "        if tag in r.tags:\n",
    "            cfg = json.loads(r.json_config)\n",
    "            for f in r.files():\n",
    "                if f.name == filename:\n",
    "                    # print(\"MATCH\", f.name)\n",
    "                    print(\"loading\", f.name, \" from \", r.name)\n",
    "                    root = \"/tmp\"\n",
    "                    f.download(root, replace=True)\n",
    "                    path = f\"{root}/{f.name}\"\n",
    "                    df = pd.read_json(path, lines=True)\n",
    "                    df[\"acquire_pairs_function\"] = cfg[\"exp5\"][\"value\"][\"acquire_pairs_function\"]\n",
    "                    df[\"seed\"] = int(cfg[\"seed\"][\"value\"])\n",
    "                    df[\"m\"] = int(f.name.split(\"_\")[2][1:].split(\".\")[0])\n",
    "                    df[\"run_name\"] = r.name\n",
    "                    df[\"oracle_model_agree\"] = df.apply(\n",
    "                        lambda x: 1 if x['r_hats'][x['rank'][0]] > x['r_hats'][x['rank'][1]] else (0.5 if x['r_hats'][0] == x['r_hats'][1] else 0), axis=1)\n",
    "\n",
    "                    df[\"r_margin\"] = df.apply(lambda x: x[\"r_hats\"][x['rank'][0]] - x[\"r_hats\"][x['rank'][1]], axis=1)\n",
    "                    df[\"abs_r_margin\"] = df[\"r_margin\"].abs()\n",
    "                    df[\"run_name\"] = r.name\n",
    "                    df[\"p_y0_winner\"] = 1 / (1 + np.exp(df[\"r_hats\"].apply(lambda r: r[1]) - df[\"r_hats\"].apply(lambda r: r[0])))\n",
    "                    df[\"y0_winner\"] = df[\"rank\"].apply(lambda r: r[0] == 0)\n",
    "                    df[\"p_y0_winner_bucket\"] = (np.floor((df[\"p_y0_winner\"] * 4.9999)) + 1).astype(int)\n",
    "                                            \n",
    "                    dfs.append(df)\n",
    "\n",
    "    return pd.concat(dfs)\n"
   ]
  },
  {
   "cell_type": "code",
   "execution_count": 10,
   "metadata": {
    "ExecuteTime": {
     "end_time": "2024-06-02T21:57:04.223691Z",
     "start_time": "2024-06-02T21:57:02.283080Z"
    }
   },
   "outputs": [
    {
     "name": "stdout",
     "output_type": "stream",
     "text": [
      "loading training_data_m768.jsonl  from  daily-pyramid-235\n"
     ]
    },
    {
     "ename": "KeyError",
     "evalue": "'r_hats'",
     "output_type": "error",
     "traceback": [
      "\u001B[0;31m---------------------------------------------------------------------------\u001B[0m",
      "\u001B[0;31mKeyError\u001B[0m                                  Traceback (most recent call last)",
      "File \u001B[0;32m~/Documents/phd/active-preference-learning/venv/lib/python3.11/site-packages/pandas/core/indexes/base.py:3361\u001B[0m, in \u001B[0;36mIndex.get_loc\u001B[0;34m(self, key, method, tolerance)\u001B[0m\n\u001B[1;32m   3360\u001B[0m \u001B[38;5;28;01mtry\u001B[39;00m:\n\u001B[0;32m-> 3361\u001B[0m     \u001B[38;5;28;01mreturn\u001B[39;00m \u001B[38;5;28;43mself\u001B[39;49m\u001B[38;5;241;43m.\u001B[39;49m\u001B[43m_engine\u001B[49m\u001B[38;5;241;43m.\u001B[39;49m\u001B[43mget_loc\u001B[49m\u001B[43m(\u001B[49m\u001B[43mcasted_key\u001B[49m\u001B[43m)\u001B[49m\n\u001B[1;32m   3362\u001B[0m \u001B[38;5;28;01mexcept\u001B[39;00m \u001B[38;5;167;01mKeyError\u001B[39;00m \u001B[38;5;28;01mas\u001B[39;00m err:\n",
      "File \u001B[0;32m~/Documents/phd/active-preference-learning/venv/lib/python3.11/site-packages/pandas/_libs/index.pyx:76\u001B[0m, in \u001B[0;36mpandas._libs.index.IndexEngine.get_loc\u001B[0;34m()\u001B[0m\n",
      "File \u001B[0;32m~/Documents/phd/active-preference-learning/venv/lib/python3.11/site-packages/pandas/_libs/index.pyx:108\u001B[0m, in \u001B[0;36mpandas._libs.index.IndexEngine.get_loc\u001B[0;34m()\u001B[0m\n",
      "File \u001B[0;32mpandas/_libs/hashtable_class_helper.pxi:5198\u001B[0m, in \u001B[0;36mpandas._libs.hashtable.PyObjectHashTable.get_item\u001B[0;34m()\u001B[0m\n",
      "File \u001B[0;32mpandas/_libs/hashtable_class_helper.pxi:5206\u001B[0m, in \u001B[0;36mpandas._libs.hashtable.PyObjectHashTable.get_item\u001B[0;34m()\u001B[0m\n",
      "\u001B[0;31mKeyError\u001B[0m: 'r_hats'",
      "\nThe above exception was the direct cause of the following exception:\n",
      "\u001B[0;31mKeyError\u001B[0m                                  Traceback (most recent call last)",
      "Cell \u001B[0;32mIn[10], line 1\u001B[0m\n\u001B[0;32m----> 1\u001B[0m df_imdb \u001B[38;5;241m=\u001B[39m \u001B[43mget_training_data\u001B[49m\u001B[43m(\u001B[49m\u001B[38;5;124;43m\"\u001B[39;49m\u001B[38;5;124;43mbbnn/wm-debug-imdb\u001B[39;49m\u001B[38;5;124;43m\"\u001B[39;49m\u001B[43m,\u001B[49m\u001B[43m \u001B[49m\u001B[38;5;124;43m\"\u001B[39;49m\u001B[38;5;124;43mxmas-sweep2\u001B[39;49m\u001B[38;5;124;43m\"\u001B[39;49m\u001B[43m,\u001B[49m\u001B[43m \u001B[49m\u001B[38;5;124;43m\"\u001B[39;49m\u001B[38;5;124;43mtraining_data_m768.jsonl\u001B[39;49m\u001B[38;5;124;43m\"\u001B[39;49m\u001B[43m)\u001B[49m\n\u001B[1;32m      2\u001B[0m df_tldr \u001B[38;5;241m=\u001B[39m get_training_data(\u001B[38;5;124m\"\u001B[39m\u001B[38;5;124mbbnn/wm-debug-tldr\u001B[39m\u001B[38;5;124m\"\u001B[39m, \u001B[38;5;124m\"\u001B[39m\u001B[38;5;124mxmas-sweep2\u001B[39m\u001B[38;5;124m\"\u001B[39m, \u001B[38;5;124m\"\u001B[39m\u001B[38;5;124mtraining_data_m512.jsonl\u001B[39m\u001B[38;5;124m\"\u001B[39m)\n",
      "Cell \u001B[0;32mIn[9], line 18\u001B[0m, in \u001B[0;36mget_training_data\u001B[0;34m(project, tag, filename)\u001B[0m\n\u001B[1;32m     16\u001B[0m df[\u001B[38;5;124m\"\u001B[39m\u001B[38;5;124mm\u001B[39m\u001B[38;5;124m\"\u001B[39m] \u001B[38;5;241m=\u001B[39m \u001B[38;5;28mint\u001B[39m(f\u001B[38;5;241m.\u001B[39mname\u001B[38;5;241m.\u001B[39msplit(\u001B[38;5;124m\"\u001B[39m\u001B[38;5;124m_\u001B[39m\u001B[38;5;124m\"\u001B[39m)[\u001B[38;5;241m2\u001B[39m][\u001B[38;5;241m1\u001B[39m:]\u001B[38;5;241m.\u001B[39msplit(\u001B[38;5;124m\"\u001B[39m\u001B[38;5;124m.\u001B[39m\u001B[38;5;124m\"\u001B[39m)[\u001B[38;5;241m0\u001B[39m])\n\u001B[1;32m     17\u001B[0m df[\u001B[38;5;124m\"\u001B[39m\u001B[38;5;124mrun_name\u001B[39m\u001B[38;5;124m\"\u001B[39m] \u001B[38;5;241m=\u001B[39m r\u001B[38;5;241m.\u001B[39mname\n\u001B[0;32m---> 18\u001B[0m df[\u001B[38;5;124m\"\u001B[39m\u001B[38;5;124moracle_model_agree\u001B[39m\u001B[38;5;124m\"\u001B[39m] \u001B[38;5;241m=\u001B[39m \u001B[43mdf\u001B[49m\u001B[38;5;241;43m.\u001B[39;49m\u001B[43mapply\u001B[49m\u001B[43m(\u001B[49m\n\u001B[1;32m     19\u001B[0m \u001B[43m    \u001B[49m\u001B[38;5;28;43;01mlambda\u001B[39;49;00m\u001B[43m \u001B[49m\u001B[43mx\u001B[49m\u001B[43m:\u001B[49m\u001B[43m \u001B[49m\u001B[38;5;241;43m1\u001B[39;49m\u001B[43m \u001B[49m\u001B[38;5;28;43;01mif\u001B[39;49;00m\u001B[43m \u001B[49m\u001B[43mx\u001B[49m\u001B[43m[\u001B[49m\u001B[38;5;124;43m'\u001B[39;49m\u001B[38;5;124;43mr_hats\u001B[39;49m\u001B[38;5;124;43m'\u001B[39;49m\u001B[43m]\u001B[49m\u001B[43m[\u001B[49m\u001B[43mx\u001B[49m\u001B[43m[\u001B[49m\u001B[38;5;124;43m'\u001B[39;49m\u001B[38;5;124;43mrank\u001B[39;49m\u001B[38;5;124;43m'\u001B[39;49m\u001B[43m]\u001B[49m\u001B[43m[\u001B[49m\u001B[38;5;241;43m0\u001B[39;49m\u001B[43m]\u001B[49m\u001B[43m]\u001B[49m\u001B[43m \u001B[49m\u001B[38;5;241;43m>\u001B[39;49m\u001B[43m \u001B[49m\u001B[43mx\u001B[49m\u001B[43m[\u001B[49m\u001B[38;5;124;43m'\u001B[39;49m\u001B[38;5;124;43mr_hats\u001B[39;49m\u001B[38;5;124;43m'\u001B[39;49m\u001B[43m]\u001B[49m\u001B[43m[\u001B[49m\u001B[43mx\u001B[49m\u001B[43m[\u001B[49m\u001B[38;5;124;43m'\u001B[39;49m\u001B[38;5;124;43mrank\u001B[39;49m\u001B[38;5;124;43m'\u001B[39;49m\u001B[43m]\u001B[49m\u001B[43m[\u001B[49m\u001B[38;5;241;43m1\u001B[39;49m\u001B[43m]\u001B[49m\u001B[43m]\u001B[49m\u001B[43m \u001B[49m\u001B[38;5;28;43;01melse\u001B[39;49;00m\u001B[43m \u001B[49m\u001B[43m(\u001B[49m\u001B[38;5;241;43m0.5\u001B[39;49m\u001B[43m \u001B[49m\u001B[38;5;28;43;01mif\u001B[39;49;00m\u001B[43m \u001B[49m\u001B[43mx\u001B[49m\u001B[43m[\u001B[49m\u001B[38;5;124;43m'\u001B[39;49m\u001B[38;5;124;43mr_hats\u001B[39;49m\u001B[38;5;124;43m'\u001B[39;49m\u001B[43m]\u001B[49m\u001B[43m[\u001B[49m\u001B[38;5;241;43m0\u001B[39;49m\u001B[43m]\u001B[49m\u001B[43m \u001B[49m\u001B[38;5;241;43m==\u001B[39;49m\u001B[43m \u001B[49m\u001B[43mx\u001B[49m\u001B[43m[\u001B[49m\u001B[38;5;124;43m'\u001B[39;49m\u001B[38;5;124;43mr_hats\u001B[39;49m\u001B[38;5;124;43m'\u001B[39;49m\u001B[43m]\u001B[49m\u001B[43m[\u001B[49m\u001B[38;5;241;43m1\u001B[39;49m\u001B[43m]\u001B[49m\u001B[43m \u001B[49m\u001B[38;5;28;43;01melse\u001B[39;49;00m\u001B[43m \u001B[49m\u001B[38;5;241;43m0\u001B[39;49m\u001B[43m)\u001B[49m\u001B[43m,\u001B[49m\u001B[43m \u001B[49m\u001B[43maxis\u001B[49m\u001B[38;5;241;43m=\u001B[39;49m\u001B[38;5;241;43m1\u001B[39;49m\u001B[43m)\u001B[49m\n\u001B[1;32m     21\u001B[0m df[\u001B[38;5;124m\"\u001B[39m\u001B[38;5;124mr_margin\u001B[39m\u001B[38;5;124m\"\u001B[39m] \u001B[38;5;241m=\u001B[39m df\u001B[38;5;241m.\u001B[39mapply(\u001B[38;5;28;01mlambda\u001B[39;00m x: x[\u001B[38;5;124m\"\u001B[39m\u001B[38;5;124mr_hats\u001B[39m\u001B[38;5;124m\"\u001B[39m][x[\u001B[38;5;124m'\u001B[39m\u001B[38;5;124mrank\u001B[39m\u001B[38;5;124m'\u001B[39m][\u001B[38;5;241m0\u001B[39m]] \u001B[38;5;241m-\u001B[39m x[\u001B[38;5;124m\"\u001B[39m\u001B[38;5;124mr_hats\u001B[39m\u001B[38;5;124m\"\u001B[39m][x[\u001B[38;5;124m'\u001B[39m\u001B[38;5;124mrank\u001B[39m\u001B[38;5;124m'\u001B[39m][\u001B[38;5;241m1\u001B[39m]], axis\u001B[38;5;241m=\u001B[39m\u001B[38;5;241m1\u001B[39m)\n\u001B[1;32m     22\u001B[0m df[\u001B[38;5;124m\"\u001B[39m\u001B[38;5;124mabs_r_margin\u001B[39m\u001B[38;5;124m\"\u001B[39m] \u001B[38;5;241m=\u001B[39m df[\u001B[38;5;124m\"\u001B[39m\u001B[38;5;124mr_margin\u001B[39m\u001B[38;5;124m\"\u001B[39m]\u001B[38;5;241m.\u001B[39mabs()\n",
      "File \u001B[0;32m~/Documents/phd/active-preference-learning/venv/lib/python3.11/site-packages/pandas/core/frame.py:8740\u001B[0m, in \u001B[0;36mDataFrame.apply\u001B[0;34m(self, func, axis, raw, result_type, args, **kwargs)\u001B[0m\n\u001B[1;32m   8729\u001B[0m \u001B[38;5;28;01mfrom\u001B[39;00m \u001B[38;5;21;01mpandas\u001B[39;00m\u001B[38;5;21;01m.\u001B[39;00m\u001B[38;5;21;01mcore\u001B[39;00m\u001B[38;5;21;01m.\u001B[39;00m\u001B[38;5;21;01mapply\u001B[39;00m \u001B[38;5;28;01mimport\u001B[39;00m frame_apply\n\u001B[1;32m   8731\u001B[0m op \u001B[38;5;241m=\u001B[39m frame_apply(\n\u001B[1;32m   8732\u001B[0m     \u001B[38;5;28mself\u001B[39m,\n\u001B[1;32m   8733\u001B[0m     func\u001B[38;5;241m=\u001B[39mfunc,\n\u001B[0;32m   (...)\u001B[0m\n\u001B[1;32m   8738\u001B[0m     kwargs\u001B[38;5;241m=\u001B[39mkwargs,\n\u001B[1;32m   8739\u001B[0m )\n\u001B[0;32m-> 8740\u001B[0m \u001B[38;5;28;01mreturn\u001B[39;00m \u001B[43mop\u001B[49m\u001B[38;5;241;43m.\u001B[39;49m\u001B[43mapply\u001B[49m\u001B[43m(\u001B[49m\u001B[43m)\u001B[49m\n",
      "File \u001B[0;32m~/Documents/phd/active-preference-learning/venv/lib/python3.11/site-packages/pandas/core/apply.py:688\u001B[0m, in \u001B[0;36mFrameApply.apply\u001B[0;34m(self)\u001B[0m\n\u001B[1;32m    685\u001B[0m \u001B[38;5;28;01melif\u001B[39;00m \u001B[38;5;28mself\u001B[39m\u001B[38;5;241m.\u001B[39mraw:\n\u001B[1;32m    686\u001B[0m     \u001B[38;5;28;01mreturn\u001B[39;00m \u001B[38;5;28mself\u001B[39m\u001B[38;5;241m.\u001B[39mapply_raw()\n\u001B[0;32m--> 688\u001B[0m \u001B[38;5;28;01mreturn\u001B[39;00m \u001B[38;5;28;43mself\u001B[39;49m\u001B[38;5;241;43m.\u001B[39;49m\u001B[43mapply_standard\u001B[49m\u001B[43m(\u001B[49m\u001B[43m)\u001B[49m\n",
      "File \u001B[0;32m~/Documents/phd/active-preference-learning/venv/lib/python3.11/site-packages/pandas/core/apply.py:812\u001B[0m, in \u001B[0;36mFrameApply.apply_standard\u001B[0;34m(self)\u001B[0m\n\u001B[1;32m    811\u001B[0m \u001B[38;5;28;01mdef\u001B[39;00m \u001B[38;5;21mapply_standard\u001B[39m(\u001B[38;5;28mself\u001B[39m):\n\u001B[0;32m--> 812\u001B[0m     results, res_index \u001B[38;5;241m=\u001B[39m \u001B[38;5;28;43mself\u001B[39;49m\u001B[38;5;241;43m.\u001B[39;49m\u001B[43mapply_series_generator\u001B[49m\u001B[43m(\u001B[49m\u001B[43m)\u001B[49m\n\u001B[1;32m    814\u001B[0m     \u001B[38;5;66;03m# wrap results\u001B[39;00m\n\u001B[1;32m    815\u001B[0m     \u001B[38;5;28;01mreturn\u001B[39;00m \u001B[38;5;28mself\u001B[39m\u001B[38;5;241m.\u001B[39mwrap_results(results, res_index)\n",
      "File \u001B[0;32m~/Documents/phd/active-preference-learning/venv/lib/python3.11/site-packages/pandas/core/apply.py:828\u001B[0m, in \u001B[0;36mFrameApply.apply_series_generator\u001B[0;34m(self)\u001B[0m\n\u001B[1;32m    825\u001B[0m \u001B[38;5;28;01mwith\u001B[39;00m option_context(\u001B[38;5;124m\"\u001B[39m\u001B[38;5;124mmode.chained_assignment\u001B[39m\u001B[38;5;124m\"\u001B[39m, \u001B[38;5;28;01mNone\u001B[39;00m):\n\u001B[1;32m    826\u001B[0m     \u001B[38;5;28;01mfor\u001B[39;00m i, v \u001B[38;5;129;01min\u001B[39;00m \u001B[38;5;28menumerate\u001B[39m(series_gen):\n\u001B[1;32m    827\u001B[0m         \u001B[38;5;66;03m# ignore SettingWithCopy here in case the user mutates\u001B[39;00m\n\u001B[0;32m--> 828\u001B[0m         results[i] \u001B[38;5;241m=\u001B[39m \u001B[38;5;28;43mself\u001B[39;49m\u001B[38;5;241;43m.\u001B[39;49m\u001B[43mf\u001B[49m\u001B[43m(\u001B[49m\u001B[43mv\u001B[49m\u001B[43m)\u001B[49m\n\u001B[1;32m    829\u001B[0m         \u001B[38;5;28;01mif\u001B[39;00m \u001B[38;5;28misinstance\u001B[39m(results[i], ABCSeries):\n\u001B[1;32m    830\u001B[0m             \u001B[38;5;66;03m# If we have a view on v, we need to make a copy because\u001B[39;00m\n\u001B[1;32m    831\u001B[0m             \u001B[38;5;66;03m#  series_generator will swap out the underlying data\u001B[39;00m\n\u001B[1;32m    832\u001B[0m             results[i] \u001B[38;5;241m=\u001B[39m results[i]\u001B[38;5;241m.\u001B[39mcopy(deep\u001B[38;5;241m=\u001B[39m\u001B[38;5;28;01mFalse\u001B[39;00m)\n",
      "Cell \u001B[0;32mIn[9], line 19\u001B[0m, in \u001B[0;36mget_training_data.<locals>.<lambda>\u001B[0;34m(x)\u001B[0m\n\u001B[1;32m     16\u001B[0m df[\u001B[38;5;124m\"\u001B[39m\u001B[38;5;124mm\u001B[39m\u001B[38;5;124m\"\u001B[39m] \u001B[38;5;241m=\u001B[39m \u001B[38;5;28mint\u001B[39m(f\u001B[38;5;241m.\u001B[39mname\u001B[38;5;241m.\u001B[39msplit(\u001B[38;5;124m\"\u001B[39m\u001B[38;5;124m_\u001B[39m\u001B[38;5;124m\"\u001B[39m)[\u001B[38;5;241m2\u001B[39m][\u001B[38;5;241m1\u001B[39m:]\u001B[38;5;241m.\u001B[39msplit(\u001B[38;5;124m\"\u001B[39m\u001B[38;5;124m.\u001B[39m\u001B[38;5;124m\"\u001B[39m)[\u001B[38;5;241m0\u001B[39m])\n\u001B[1;32m     17\u001B[0m df[\u001B[38;5;124m\"\u001B[39m\u001B[38;5;124mrun_name\u001B[39m\u001B[38;5;124m\"\u001B[39m] \u001B[38;5;241m=\u001B[39m r\u001B[38;5;241m.\u001B[39mname\n\u001B[1;32m     18\u001B[0m df[\u001B[38;5;124m\"\u001B[39m\u001B[38;5;124moracle_model_agree\u001B[39m\u001B[38;5;124m\"\u001B[39m] \u001B[38;5;241m=\u001B[39m df\u001B[38;5;241m.\u001B[39mapply(\n\u001B[0;32m---> 19\u001B[0m     \u001B[38;5;28;01mlambda\u001B[39;00m x: \u001B[38;5;241m1\u001B[39m \u001B[38;5;28;01mif\u001B[39;00m \u001B[43mx\u001B[49m\u001B[43m[\u001B[49m\u001B[38;5;124;43m'\u001B[39;49m\u001B[38;5;124;43mr_hats\u001B[39;49m\u001B[38;5;124;43m'\u001B[39;49m\u001B[43m]\u001B[49m[x[\u001B[38;5;124m'\u001B[39m\u001B[38;5;124mrank\u001B[39m\u001B[38;5;124m'\u001B[39m][\u001B[38;5;241m0\u001B[39m]] \u001B[38;5;241m>\u001B[39m x[\u001B[38;5;124m'\u001B[39m\u001B[38;5;124mr_hats\u001B[39m\u001B[38;5;124m'\u001B[39m][x[\u001B[38;5;124m'\u001B[39m\u001B[38;5;124mrank\u001B[39m\u001B[38;5;124m'\u001B[39m][\u001B[38;5;241m1\u001B[39m]] \u001B[38;5;28;01melse\u001B[39;00m (\u001B[38;5;241m0.5\u001B[39m \u001B[38;5;28;01mif\u001B[39;00m x[\u001B[38;5;124m'\u001B[39m\u001B[38;5;124mr_hats\u001B[39m\u001B[38;5;124m'\u001B[39m][\u001B[38;5;241m0\u001B[39m] \u001B[38;5;241m==\u001B[39m x[\u001B[38;5;124m'\u001B[39m\u001B[38;5;124mr_hats\u001B[39m\u001B[38;5;124m'\u001B[39m][\u001B[38;5;241m1\u001B[39m] \u001B[38;5;28;01melse\u001B[39;00m \u001B[38;5;241m0\u001B[39m), axis\u001B[38;5;241m=\u001B[39m\u001B[38;5;241m1\u001B[39m)\n\u001B[1;32m     21\u001B[0m df[\u001B[38;5;124m\"\u001B[39m\u001B[38;5;124mr_margin\u001B[39m\u001B[38;5;124m\"\u001B[39m] \u001B[38;5;241m=\u001B[39m df\u001B[38;5;241m.\u001B[39mapply(\u001B[38;5;28;01mlambda\u001B[39;00m x: x[\u001B[38;5;124m\"\u001B[39m\u001B[38;5;124mr_hats\u001B[39m\u001B[38;5;124m\"\u001B[39m][x[\u001B[38;5;124m'\u001B[39m\u001B[38;5;124mrank\u001B[39m\u001B[38;5;124m'\u001B[39m][\u001B[38;5;241m0\u001B[39m]] \u001B[38;5;241m-\u001B[39m x[\u001B[38;5;124m\"\u001B[39m\u001B[38;5;124mr_hats\u001B[39m\u001B[38;5;124m\"\u001B[39m][x[\u001B[38;5;124m'\u001B[39m\u001B[38;5;124mrank\u001B[39m\u001B[38;5;124m'\u001B[39m][\u001B[38;5;241m1\u001B[39m]], axis\u001B[38;5;241m=\u001B[39m\u001B[38;5;241m1\u001B[39m)\n\u001B[1;32m     22\u001B[0m df[\u001B[38;5;124m\"\u001B[39m\u001B[38;5;124mabs_r_margin\u001B[39m\u001B[38;5;124m\"\u001B[39m] \u001B[38;5;241m=\u001B[39m df[\u001B[38;5;124m\"\u001B[39m\u001B[38;5;124mr_margin\u001B[39m\u001B[38;5;124m\"\u001B[39m]\u001B[38;5;241m.\u001B[39mabs()\n",
      "File \u001B[0;32m~/Documents/phd/active-preference-learning/venv/lib/python3.11/site-packages/pandas/core/series.py:942\u001B[0m, in \u001B[0;36mSeries.__getitem__\u001B[0;34m(self, key)\u001B[0m\n\u001B[1;32m    939\u001B[0m     \u001B[38;5;28;01mreturn\u001B[39;00m \u001B[38;5;28mself\u001B[39m\u001B[38;5;241m.\u001B[39m_values[key]\n\u001B[1;32m    941\u001B[0m \u001B[38;5;28;01melif\u001B[39;00m key_is_scalar:\n\u001B[0;32m--> 942\u001B[0m     \u001B[38;5;28;01mreturn\u001B[39;00m \u001B[38;5;28;43mself\u001B[39;49m\u001B[38;5;241;43m.\u001B[39;49m\u001B[43m_get_value\u001B[49m\u001B[43m(\u001B[49m\u001B[43mkey\u001B[49m\u001B[43m)\u001B[49m\n\u001B[1;32m    944\u001B[0m \u001B[38;5;28;01mif\u001B[39;00m is_hashable(key):\n\u001B[1;32m    945\u001B[0m     \u001B[38;5;66;03m# Otherwise index.get_value will raise InvalidIndexError\u001B[39;00m\n\u001B[1;32m    946\u001B[0m     \u001B[38;5;28;01mtry\u001B[39;00m:\n\u001B[1;32m    947\u001B[0m         \u001B[38;5;66;03m# For labels that don't resolve as scalars like tuples and frozensets\u001B[39;00m\n",
      "File \u001B[0;32m~/Documents/phd/active-preference-learning/venv/lib/python3.11/site-packages/pandas/core/series.py:1051\u001B[0m, in \u001B[0;36mSeries._get_value\u001B[0;34m(self, label, takeable)\u001B[0m\n\u001B[1;32m   1048\u001B[0m     \u001B[38;5;28;01mreturn\u001B[39;00m \u001B[38;5;28mself\u001B[39m\u001B[38;5;241m.\u001B[39m_values[label]\n\u001B[1;32m   1050\u001B[0m \u001B[38;5;66;03m# Similar to Index.get_value, but we do not fall back to positional\u001B[39;00m\n\u001B[0;32m-> 1051\u001B[0m loc \u001B[38;5;241m=\u001B[39m \u001B[38;5;28;43mself\u001B[39;49m\u001B[38;5;241;43m.\u001B[39;49m\u001B[43mindex\u001B[49m\u001B[38;5;241;43m.\u001B[39;49m\u001B[43mget_loc\u001B[49m\u001B[43m(\u001B[49m\u001B[43mlabel\u001B[49m\u001B[43m)\u001B[49m\n\u001B[1;32m   1052\u001B[0m \u001B[38;5;28;01mreturn\u001B[39;00m \u001B[38;5;28mself\u001B[39m\u001B[38;5;241m.\u001B[39mindex\u001B[38;5;241m.\u001B[39m_get_values_for_loc(\u001B[38;5;28mself\u001B[39m, loc, label)\n",
      "File \u001B[0;32m~/Documents/phd/active-preference-learning/venv/lib/python3.11/site-packages/pandas/core/indexes/base.py:3363\u001B[0m, in \u001B[0;36mIndex.get_loc\u001B[0;34m(self, key, method, tolerance)\u001B[0m\n\u001B[1;32m   3361\u001B[0m         \u001B[38;5;28;01mreturn\u001B[39;00m \u001B[38;5;28mself\u001B[39m\u001B[38;5;241m.\u001B[39m_engine\u001B[38;5;241m.\u001B[39mget_loc(casted_key)\n\u001B[1;32m   3362\u001B[0m     \u001B[38;5;28;01mexcept\u001B[39;00m \u001B[38;5;167;01mKeyError\u001B[39;00m \u001B[38;5;28;01mas\u001B[39;00m err:\n\u001B[0;32m-> 3363\u001B[0m         \u001B[38;5;28;01mraise\u001B[39;00m \u001B[38;5;167;01mKeyError\u001B[39;00m(key) \u001B[38;5;28;01mfrom\u001B[39;00m \u001B[38;5;21;01merr\u001B[39;00m\n\u001B[1;32m   3365\u001B[0m \u001B[38;5;28;01mif\u001B[39;00m is_scalar(key) \u001B[38;5;129;01mand\u001B[39;00m isna(key) \u001B[38;5;129;01mand\u001B[39;00m \u001B[38;5;129;01mnot\u001B[39;00m \u001B[38;5;28mself\u001B[39m\u001B[38;5;241m.\u001B[39mhasnans:\n\u001B[1;32m   3366\u001B[0m     \u001B[38;5;28;01mraise\u001B[39;00m \u001B[38;5;167;01mKeyError\u001B[39;00m(key)\n",
      "\u001B[0;31mKeyError\u001B[0m: 'r_hats'"
     ]
    }
   ],
   "source": [
    "df_imdb = get_training_data(\"bbnn/wm-debug-imdb\", \"xmas-sweep2\", \"training_data_m768.jsonl\")\n",
    "df_tldr = get_training_data(\"bbnn/wm-debug-tldr\", \"xmas-sweep2\", \"training_data_m512.jsonl\")"
   ]
  },
  {
   "cell_type": "code",
   "execution_count": 4,
   "metadata": {
    "ExecuteTime": {
     "end_time": "2024-06-02T21:55:34.214200Z",
     "start_time": "2024-06-02T21:55:34.201826Z"
    }
   },
   "outputs": [],
   "source": [
    "def key_to_nice_name(key):\n",
    "    return {\n",
    "        \"ENTROPY\": \"Entropy\",\n",
    "        \"CERTAINTY\": \"Pref cert\",\n",
    "        \"UNCERTAINTY\": \"Active-R-Uncertainty\",\n",
    "        \"OFFLINE\": \"Offline-Random\",\n",
    "        \"RANDOM\": \"Random\",\n",
    "        \"HIGH_ENTROPY_AND_CERTAINTY\": \"Ent + Pref\",\n",
    "    }[key]"
   ]
  },
  {
   "cell_type": "code",
   "execution_count": 6,
   "metadata": {
    "ExecuteTime": {
     "end_time": "2024-06-02T21:55:44.688292Z",
     "start_time": "2024-06-02T21:55:44.636408Z"
    }
   },
   "outputs": [],
   "source": [
    "\n",
    "def plot_confidence_histos(acq_fns, target_ms, df, y_max, dataset=\"imdb\"):    \n",
    "    def map_conf(agree, p_y0):\n",
    "        \"\"\"\n",
    "        Want to map data such that (e.g.) 99% is where the r_hat values were confidently right.\n",
    "        1% is where r_hat values were confidently wrong.  non-confident predictions should lie close to 50%\n",
    "\n",
    "        if p_y0_winner < 50%, then this means the model predicted that y1 was preferred.  p_y0_winner ~1% is a very confident y1 prediction\n",
    "        if p_y0_winner > 50%, then this means the model predicted that y0 was preferred.  p_y0_winner ~99% is a very confident y0 prediction\n",
    "\n",
    "        So to produce our combined confidence/correctness number we may need to mirror \n",
    "        p_y0_winner into the relevant half of the [0,1] range        \n",
    "        \"\"\"\n",
    "        if agree:\n",
    "            if p_y0 < 0.5: # model predicted y0\n",
    "                return 1 - p_y0\n",
    "            else: # model predicted y1\n",
    "                return p_y0\n",
    "        else:\n",
    "            if p_y0 > 0.5:\n",
    "                return 1 - p_y0\n",
    "            else:\n",
    "                return p_y0\n",
    "    \n",
    "    sns.set_style(\"whitegrid\")  # Set plot style\n",
    "\n",
    "    fig, axes = plt.subplots(len(acq_fns), len(target_ms), figsize=(10, 8))\n",
    "    fig.suptitle(f'{dataset} histograms of preference predictions', fontsize=20)\n",
    "    # fig.tight_layout()\n",
    "\n",
    "\n",
    "\n",
    "    \n",
    "    for i, acq_fn in enumerate(acq_fns):\n",
    "        for j, target_m in enumerate(target_ms):                         \n",
    "            ddf = df[(df.target_m == target_m) & (df.acquire_pairs_function == acq_fn)][[\"oracle_model_agree\", \"p_y0_winner\"]].copy()\n",
    "            ddf[\"conf\"] = ddf.apply(lambda r: map_conf(r[\"oracle_model_agree\"], r[\"p_y0_winner\"]), axis=1)\n",
    "            ddf[ddf[\"conf\"] >= 0.5][\"conf\"].plot.hist(\n",
    "                bins=10, figsize=(12, 9), ax=axes[i, j], xlim=(0, 1), ylim=(0, y_max), title=f\"{key_to_nice_name(acq_fn)}/{target_m}\", color=\"green\")\n",
    "            ddf[ddf[\"conf\"] <= 0.5][\"conf\"].plot.hist(\n",
    "                bins=10, figsize=(12, 9), ax=axes[i, j], xlim=(0, 1), ylim=(0, y_max), color=\"red\")\n",
    "            \n",
    "            plt.xticks(fontsize=16)  # Increase fontsize for x-axis tick labels\n",
    "            plt.yticks(fontsize=16)  # Increase fontsize for y-axis tick labels\n",
    "    \n",
    "    plt.savefig(f\"paper_{dataset}_histogram.png\", dpi=300)\n"
   ]
  },
  {
   "cell_type": "code",
   "execution_count": 7,
   "metadata": {
    "ExecuteTime": {
     "end_time": "2024-06-02T21:55:48.334031Z",
     "start_time": "2024-06-02T21:55:48.289938Z"
    }
   },
   "outputs": [
    {
     "ename": "NameError",
     "evalue": "name 'df_imdb' is not defined",
     "output_type": "error",
     "traceback": [
      "\u001B[0;31m---------------------------------------------------------------------------\u001B[0m",
      "\u001B[0;31mNameError\u001B[0m                                 Traceback (most recent call last)",
      "Cell \u001B[0;32mIn[7], line 8\u001B[0m\n\u001B[1;32m      1\u001B[0m \u001B[38;5;66;03m# This first table shows us how well calibrated the implied p(y0 > y1 | x) in the model becomes in each phase. This \u001B[39;00m\n\u001B[1;32m      2\u001B[0m \u001B[38;5;66;03m# probability is from eq 6 in the DPO paper and is derived from the r_hat values of the two prompts y0 and y1.\u001B[39;00m\n\u001B[1;32m      3\u001B[0m \n\u001B[1;32m      4\u001B[0m \u001B[38;5;66;03m# We bucket it into 5 buckets 0-0.2, 0.2-0.4 etc.. showing the implied probability that y0 is prefered over y1. Then we\u001B[39;00m\n\u001B[1;32m      5\u001B[0m \u001B[38;5;66;03m# plot the actual win-rate for y0 for datapoints in each bucket.  You might expect that training improves their agreement\u001B[39;00m\n\u001B[1;32m      7\u001B[0m display(\n\u001B[0;32m----> 8\u001B[0m     \u001B[43mdf_imdb\u001B[49m\u001B[38;5;241m.\u001B[39mgroupby(\n\u001B[1;32m      9\u001B[0m         [\u001B[38;5;124m\"\u001B[39m\u001B[38;5;124mtarget_m\u001B[39m\u001B[38;5;124m\"\u001B[39m, \u001B[38;5;124m\"\u001B[39m\u001B[38;5;124macquire_pairs_function\u001B[39m\u001B[38;5;124m\"\u001B[39m, \u001B[38;5;124m\"\u001B[39m\u001B[38;5;124mp_y0_winner_bucket\u001B[39m\u001B[38;5;124m\"\u001B[39m]\n\u001B[1;32m     10\u001B[0m     )[\u001B[38;5;124m\"\u001B[39m\u001B[38;5;124my0_winner\u001B[39m\u001B[38;5;124m\"\u001B[39m]\u001B[38;5;241m.\u001B[39magg([\u001B[38;5;124m\"\u001B[39m\u001B[38;5;124mcount\u001B[39m\u001B[38;5;124m\"\u001B[39m, \u001B[38;5;124m\"\u001B[39m\u001B[38;5;124mmean\u001B[39m\u001B[38;5;124m\"\u001B[39m])\u001B[38;5;241m.\u001B[39munstack(level\u001B[38;5;241m=\u001B[39m\u001B[38;5;241m1\u001B[39m)\u001B[38;5;241m.\u001B[39mfillna(\u001B[38;5;124m\"\u001B[39m\u001B[38;5;124m\"\u001B[39m)\n\u001B[1;32m     11\u001B[0m )\n\u001B[1;32m     13\u001B[0m ACQ_FNS \u001B[38;5;241m=\u001B[39m [\u001B[38;5;124m\"\u001B[39m\u001B[38;5;124mRANDOM\u001B[39m\u001B[38;5;124m\"\u001B[39m, \u001B[38;5;124m\"\u001B[39m\u001B[38;5;124mCERTAINTY\u001B[39m\u001B[38;5;124m\"\u001B[39m, \u001B[38;5;124m\"\u001B[39m\u001B[38;5;124mHIGH_ENTROPY_AND_CERTAINTY\u001B[39m\u001B[38;5;124m\"\u001B[39m]\n\u001B[1;32m     14\u001B[0m plot_confidence_histos(ACQ_FNS, [\u001B[38;5;241m256\u001B[39m, \u001B[38;5;241m768\u001B[39m], df_imdb, \u001B[38;5;241m300\u001B[39m, dataset\u001B[38;5;241m=\u001B[39m\u001B[38;5;124m\"\u001B[39m\u001B[38;5;124mIMDB\u001B[39m\u001B[38;5;124m\"\u001B[39m)\n",
      "\u001B[0;31mNameError\u001B[0m: name 'df_imdb' is not defined"
     ]
    }
   ],
   "source": [
    "# This first table shows us how well calibrated the implied p(y0 > y1 | x) in the model becomes in each phase. This \n",
    "# probability is from eq 6 in the DPO paper and is derived from the r_hat values of the two prompts y0 and y1.\n",
    "\n",
    "# We bucket it into 5 buckets 0-0.2, 0.2-0.4 etc.. showing the implied probability that y0 is prefered over y1. Then we\n",
    "# plot the actual win-rate for y0 for datapoints in each bucket.  You might expect that training improves their agreement\n",
    "\n",
    "display(\n",
    "    df_imdb.groupby(\n",
    "        [\"target_m\", \"acquire_pairs_function\", \"p_y0_winner_bucket\"]\n",
    "    )[\"y0_winner\"].agg([\"count\", \"mean\"]).unstack(level=1).fillna(\"\")\n",
    ")\n",
    "\n",
    "ACQ_FNS = [\"RANDOM\", \"CERTAINTY\", \"HIGH_ENTROPY_AND_CERTAINTY\"]\n",
    "plot_confidence_histos(ACQ_FNS, [256, 768], df_imdb, 300, dataset=\"IMDB\")\n",
    "\n"
   ]
  },
  {
   "cell_type": "code",
   "execution_count": 8,
   "metadata": {
    "ExecuteTime": {
     "end_time": "2024-06-02T21:56:48.527297Z",
     "start_time": "2024-06-02T21:56:48.501724Z"
    }
   },
   "outputs": [
    {
     "ename": "NameError",
     "evalue": "name 'df_tldr' is not defined",
     "output_type": "error",
     "traceback": [
      "\u001B[0;31m---------------------------------------------------------------------------\u001B[0m",
      "\u001B[0;31mNameError\u001B[0m                                 Traceback (most recent call last)",
      "Cell \u001B[0;32mIn[8], line 2\u001B[0m\n\u001B[1;32m      1\u001B[0m display(\n\u001B[0;32m----> 2\u001B[0m     \u001B[43mdf_tldr\u001B[49m\u001B[38;5;241m.\u001B[39mgroupby(\n\u001B[1;32m      3\u001B[0m         [\u001B[38;5;124m\"\u001B[39m\u001B[38;5;124mtarget_m\u001B[39m\u001B[38;5;124m\"\u001B[39m, \u001B[38;5;124m\"\u001B[39m\u001B[38;5;124macquire_pairs_function\u001B[39m\u001B[38;5;124m\"\u001B[39m, \u001B[38;5;124m\"\u001B[39m\u001B[38;5;124mp_y0_winner_bucket\u001B[39m\u001B[38;5;124m\"\u001B[39m]\n\u001B[1;32m      4\u001B[0m     )[\u001B[38;5;124m\"\u001B[39m\u001B[38;5;124my0_winner\u001B[39m\u001B[38;5;124m\"\u001B[39m]\u001B[38;5;241m.\u001B[39magg([\u001B[38;5;124m\"\u001B[39m\u001B[38;5;124mcount\u001B[39m\u001B[38;5;124m\"\u001B[39m, \u001B[38;5;124m\"\u001B[39m\u001B[38;5;124mmean\u001B[39m\u001B[38;5;124m\"\u001B[39m])\u001B[38;5;241m.\u001B[39munstack(level\u001B[38;5;241m=\u001B[39m\u001B[38;5;241m1\u001B[39m)\u001B[38;5;241m.\u001B[39mfillna(\u001B[38;5;124m\"\u001B[39m\u001B[38;5;124m\"\u001B[39m)\n\u001B[1;32m      5\u001B[0m )\n\u001B[1;32m      7\u001B[0m ACQ_FNS \u001B[38;5;241m=\u001B[39m [\u001B[38;5;124m\"\u001B[39m\u001B[38;5;124mRANDOM\u001B[39m\u001B[38;5;124m\"\u001B[39m, \u001B[38;5;124m\"\u001B[39m\u001B[38;5;124mCERTAINTY\u001B[39m\u001B[38;5;124m\"\u001B[39m, \u001B[38;5;124m\"\u001B[39m\u001B[38;5;124mHIGH_ENTROPY_AND_CERTAINTY\u001B[39m\u001B[38;5;124m\"\u001B[39m]\n\u001B[1;32m      8\u001B[0m plot_confidence_histos(ACQ_FNS, [\u001B[38;5;241m256\u001B[39m, \u001B[38;5;241m512\u001B[39m], df_tldr, \u001B[38;5;241m150\u001B[39m, dataset\u001B[38;5;241m=\u001B[39m\u001B[38;5;124m\"\u001B[39m\u001B[38;5;124mTLDR\u001B[39m\u001B[38;5;124m\"\u001B[39m)\n",
      "\u001B[0;31mNameError\u001B[0m: name 'df_tldr' is not defined"
     ]
    }
   ],
   "source": [
    "display(\n",
    "    df_tldr.groupby(\n",
    "        [\"target_m\", \"acquire_pairs_function\", \"p_y0_winner_bucket\"]\n",
    "    )[\"y0_winner\"].agg([\"count\", \"mean\"]).unstack(level=1).fillna(\"\")\n",
    ")\n",
    "\n",
    "ACQ_FNS = [\"RANDOM\", \"CERTAINTY\", \"HIGH_ENTROPY_AND_CERTAINTY\"]\n",
    "plot_confidence_histos(ACQ_FNS, [256, 512], df_tldr, 150, dataset=\"TLDR\")"
   ]
  },
  {
   "cell_type": "code",
   "execution_count": null,
   "metadata": {},
   "outputs": [],
   "source": []
  }
 ],
 "metadata": {
  "kernelspec": {
   "display_name": "Python 3 (ipykernel)",
   "language": "python",
   "name": "python3"
  },
  "language_info": {
   "codemirror_mode": {
    "name": "ipython",
    "version": 3
   },
   "file_extension": ".py",
   "mimetype": "text/x-python",
   "name": "python",
   "nbconvert_exporter": "python",
   "pygments_lexer": "ipython3",
   "version": "3.10.10"
  }
 },
 "nbformat": 4,
 "nbformat_minor": 4
}
