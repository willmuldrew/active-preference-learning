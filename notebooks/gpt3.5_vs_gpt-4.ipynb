{
 "cells": [
  {
   "cell_type": "code",
   "execution_count": null,
   "id": "f41c02f2",
   "metadata": {},
   "outputs": [],
   "source": [
    "import json\n",
    "import glob\n",
    "import re\n",
    "import random\n",
    "from tqdm import tqdm\n",
    "import direct.openai_ranking\n",
    "import pandas as pd"
   ]
  },
  {
   "cell_type": "code",
   "execution_count": 2,
   "id": "a5b94696",
   "metadata": {},
   "outputs": [],
   "source": [
    "def get_post(d):\n",
    "    return f\"\"\"Subreddit: /r/{d['info']['subreddit']}\n",
    "Title: {d['info']['title']}\n",
    "\n",
    "{d['info']['post']}\"\"\"\n",
    "\n",
    "\n",
    "def get_tldr_preference(prompt, completion_a, completion_b, model, t):\n",
    "    return direct.openai_ranking.get_preference(prompt, completion_a, completion_b, \"tldr\", model=model, oracle_temperature=t, provider=\"openai\")\n",
    "\n",
    "\n",
    "sfhf_path = \"/home/will/code/summarize_from_feedback_data/comparisons\"\n",
    "json_paths = [p for p in glob.glob(f\"{sfhf_path}/*.json\") if re.match(\"batch[0-9][0-9]?.json\", p.split(\"/\")[-1])]\n",
    "data = [json.loads(s) for p in json_paths for s in open(p).readlines()]\n",
    "data = [d for d in data if d['split'] == 'valid1']"
   ]
  },
  {
   "cell_type": "code",
   "execution_count": null,
   "id": "0413cf53",
   "metadata": {
    "scrolled": false
   },
   "outputs": [],
   "source": [
    "batch = random.choices(data, k=50)\n",
    "\n",
    "# model = \"gpt-4\"\n",
    "# t = 0.05\n",
    "\n",
    "rows = []\n",
    "for t in [0, 0.05, 0.5, 1.0]:\n",
    "    for model in [\"gpt-4-0613\", \"gpt-3.5-turbo-0613\"]:\n",
    "        agree_count = 0\n",
    "        for b in tqdm(batch):\n",
    "            pref_a = get_tldr_preference(\n",
    "                get_post(b),\n",
    "                b['summaries'][0]['text'].strip(),\n",
    "                b['summaries'][1]['text'].strip(),\n",
    "                model, t\n",
    "            )\n",
    "            pref_b = get_tldr_preference(\n",
    "                get_post(b),\n",
    "                b['summaries'][0]['text'].strip(),\n",
    "                b['summaries'][1]['text'].strip(),\n",
    "                model, t\n",
    "            )\n",
    "            agree = pref_a[\"preferred\"] == pref_b[\"preferred\"]\n",
    "            # print(pref_a)\n",
    "            #\n",
    "            # agree = (b['choice'] == 0 and pref['preferred'] == 'A') or (b['choice'] == 1 and pref['preferred'] == 'B')\n",
    "            if agree:\n",
    "                agree_count += 1\n",
    "        rows.append([model, t, agree_count/len(batch)])\n",
    "\n",
    "df = pd.DataFrame(rows, columns=[\"model\", \"t\", \"agreement\"])\n"
   ]
  },
  {
   "cell_type": "code",
   "execution_count": 6,
   "id": "b5318eea",
   "metadata": {},
   "outputs": [
    {
     "data": {
      "text/html": [
       "<div>\n",
       "<style scoped>\n",
       "    .dataframe tbody tr th:only-of-type {\n",
       "        vertical-align: middle;\n",
       "    }\n",
       "\n",
       "    .dataframe tbody tr th {\n",
       "        vertical-align: top;\n",
       "    }\n",
       "\n",
       "    .dataframe thead th {\n",
       "        text-align: right;\n",
       "    }\n",
       "</style>\n",
       "<table border=\"1\" class=\"dataframe\">\n",
       "  <thead>\n",
       "    <tr style=\"text-align: right;\">\n",
       "      <th></th>\n",
       "      <th>model</th>\n",
       "      <th>t</th>\n",
       "      <th>agreement</th>\n",
       "    </tr>\n",
       "  </thead>\n",
       "  <tbody>\n",
       "    <tr>\n",
       "      <th>0</th>\n",
       "      <td>gpt-4-0613</td>\n",
       "      <td>0.00</td>\n",
       "      <td>0.96</td>\n",
       "    </tr>\n",
       "    <tr>\n",
       "      <th>1</th>\n",
       "      <td>gpt-3.5-turbo-0613</td>\n",
       "      <td>0.00</td>\n",
       "      <td>0.56</td>\n",
       "    </tr>\n",
       "    <tr>\n",
       "      <th>2</th>\n",
       "      <td>gpt-4-0613</td>\n",
       "      <td>0.05</td>\n",
       "      <td>0.96</td>\n",
       "    </tr>\n",
       "    <tr>\n",
       "      <th>3</th>\n",
       "      <td>gpt-3.5-turbo-0613</td>\n",
       "      <td>0.05</td>\n",
       "      <td>0.78</td>\n",
       "    </tr>\n",
       "    <tr>\n",
       "      <th>4</th>\n",
       "      <td>gpt-4-0613</td>\n",
       "      <td>0.50</td>\n",
       "      <td>0.94</td>\n",
       "    </tr>\n",
       "    <tr>\n",
       "      <th>5</th>\n",
       "      <td>gpt-3.5-turbo-0613</td>\n",
       "      <td>0.50</td>\n",
       "      <td>0.56</td>\n",
       "    </tr>\n",
       "    <tr>\n",
       "      <th>6</th>\n",
       "      <td>gpt-4-0613</td>\n",
       "      <td>1.00</td>\n",
       "      <td>0.88</td>\n",
       "    </tr>\n",
       "    <tr>\n",
       "      <th>7</th>\n",
       "      <td>gpt-3.5-turbo-0613</td>\n",
       "      <td>1.00</td>\n",
       "      <td>0.52</td>\n",
       "    </tr>\n",
       "  </tbody>\n",
       "</table>\n",
       "</div>"
      ],
      "text/plain": [
       "                model     t  agreement\n",
       "0          gpt-4-0613  0.00       0.96\n",
       "1  gpt-3.5-turbo-0613  0.00       0.56\n",
       "2          gpt-4-0613  0.05       0.96\n",
       "3  gpt-3.5-turbo-0613  0.05       0.78\n",
       "4          gpt-4-0613  0.50       0.94\n",
       "5  gpt-3.5-turbo-0613  0.50       0.56\n",
       "6          gpt-4-0613  1.00       0.88\n",
       "7  gpt-3.5-turbo-0613  1.00       0.52"
      ]
     },
     "execution_count": 6,
     "metadata": {},
     "output_type": "execute_result"
    }
   ],
   "source": [
    "df"
   ]
  },
  {
   "cell_type": "code",
   "execution_count": 17,
   "id": "167af997",
   "metadata": {},
   "outputs": [
    {
     "data": {
      "image/png": "[encoded data removed]",
      "text/plain": [
       "<Figure size 640x480 with 1 Axes>"
      ]
     },
     "metadata": {},
     "output_type": "display_data"
    }
   ],
   "source": [
    "ax = df.groupby(['t', 'model'])[\"agreement\"].mean().unstack().plot(ylim=(0,1), xlabel=\"sampling temperature\", ylabel=\"agreement rate\", title=\"Consistency of preference labels (N=50)\")\n",
    "ax.figure.savefig(\"gpt-consistency.png\")"
   ]
  },
  {
   "cell_type": "code",
   "execution_count": null,
   "id": "a9159053",
   "metadata": {},
   "outputs": [],
   "source": []
  }
 ],
 "metadata": {
  "kernelspec": {
   "display_name": "Python 3 (ipykernel)",
   "language": "python",
   "name": "python3"
  },
  "language_info": {
   "codemirror_mode": {
    "name": "ipython",
    "version": 3
   },
   "file_extension": ".py",
   "mimetype": "text/x-python",
   "name": "python",
   "nbconvert_exporter": "python",
   "pygments_lexer": "ipython3",
   "version": "3.10.10"
  }
 },
 "nbformat": 4,
 "nbformat_minor": 5
}
